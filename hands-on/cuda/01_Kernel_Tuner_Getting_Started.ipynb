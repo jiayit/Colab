{
  "cells": [
    {
      "cell_type": "markdown",
      "metadata": {
        "id": "O0oxTslc7KWc"
      },
      "source": [
        "# Kernel Tuner Tutorial\n",
        "\n",
        "## Getting Started Hands-on\n",
        "\n",
        "In this hands-on we will look at two features of Kernel Tuner that have been recently introduced to you: **tunable grid dimensions** and **user defined metrics**.\n",
        "\n",
        "But first, if you have not done it already, it is time to install and import kernel_tuner and its dependencies."
      ]
    },
    {
      "cell_type": "code",
      "execution_count": 1,
      "metadata": {
        "id": "Ieqcoy4_3BDX",
        "outputId": "952a3311-4974-4ed9-8d63-d2950617a9c9",
        "colab": {
          "base_uri": "https://localhost:8080/"
        }
      },
      "outputs": [
        {
          "output_type": "stream",
          "name": "stdout",
          "text": [
            "Collecting kernel_tuner\n",
            "  Downloading kernel_tuner-1.1.3-py3-none-any.whl.metadata (12 kB)\n",
            "Requirement already satisfied: jsonschema in /usr/local/lib/python3.11/dist-packages (from kernel_tuner) (4.24.0)\n",
            "Requirement already satisfied: numpy<3.0.0,>=2.0.0 in /usr/local/lib/python3.11/dist-packages (from kernel_tuner) (2.0.2)\n",
            "Requirement already satisfied: packaging in /usr/local/lib/python3.11/dist-packages (from kernel_tuner) (24.2)\n",
            "Requirement already satisfied: pandas>=2.0.0 in /usr/local/lib/python3.11/dist-packages (from kernel_tuner) (2.2.2)\n",
            "Collecting python-constraint2<3.0.0,>=2.1.0 (from kernel_tuner)\n",
            "  Downloading python_constraint2-2.2.3-cp311-cp311-manylinux_2_35_x86_64.whl.metadata (10 kB)\n",
            "Requirement already satisfied: scikit-learn>=1.0.2 in /usr/local/lib/python3.11/dist-packages (from kernel_tuner) (1.6.1)\n",
            "Requirement already satisfied: scipy>=1.11.0 in /usr/local/lib/python3.11/dist-packages (from kernel_tuner) (1.15.3)\n",
            "Collecting xmltodict (from kernel_tuner)\n",
            "  Downloading xmltodict-0.14.2-py2.py3-none-any.whl.metadata (8.0 kB)\n",
            "Requirement already satisfied: python-dateutil>=2.8.2 in /usr/local/lib/python3.11/dist-packages (from pandas>=2.0.0->kernel_tuner) (2.9.0.post0)\n",
            "Requirement already satisfied: pytz>=2020.1 in /usr/local/lib/python3.11/dist-packages (from pandas>=2.0.0->kernel_tuner) (2025.2)\n",
            "Requirement already satisfied: tzdata>=2022.7 in /usr/local/lib/python3.11/dist-packages (from pandas>=2.0.0->kernel_tuner) (2025.2)\n",
            "Requirement already satisfied: joblib>=1.2.0 in /usr/local/lib/python3.11/dist-packages (from scikit-learn>=1.0.2->kernel_tuner) (1.5.1)\n",
            "Requirement already satisfied: threadpoolctl>=3.1.0 in /usr/local/lib/python3.11/dist-packages (from scikit-learn>=1.0.2->kernel_tuner) (3.6.0)\n",
            "Requirement already satisfied: attrs>=22.2.0 in /usr/local/lib/python3.11/dist-packages (from jsonschema->kernel_tuner) (25.3.0)\n",
            "Requirement already satisfied: jsonschema-specifications>=2023.03.6 in /usr/local/lib/python3.11/dist-packages (from jsonschema->kernel_tuner) (2025.4.1)\n",
            "Requirement already satisfied: referencing>=0.28.4 in /usr/local/lib/python3.11/dist-packages (from jsonschema->kernel_tuner) (0.36.2)\n",
            "Requirement already satisfied: rpds-py>=0.7.1 in /usr/local/lib/python3.11/dist-packages (from jsonschema->kernel_tuner) (0.25.1)\n",
            "Requirement already satisfied: six>=1.5 in /usr/local/lib/python3.11/dist-packages (from python-dateutil>=2.8.2->pandas>=2.0.0->kernel_tuner) (1.17.0)\n",
            "Requirement already satisfied: typing-extensions>=4.4.0 in /usr/local/lib/python3.11/dist-packages (from referencing>=0.28.4->jsonschema->kernel_tuner) (4.13.2)\n",
            "Downloading kernel_tuner-1.1.3-py3-none-any.whl (151 kB)\n",
            "\u001b[2K   \u001b[90m━━━━━━━━━━━━━━━━━━━━━━━━━━━━━━━━━━━━━━━━\u001b[0m \u001b[32m151.6/151.6 kB\u001b[0m \u001b[31m2.9 MB/s\u001b[0m eta \u001b[36m0:00:00\u001b[0m\n",
            "\u001b[?25hDownloading python_constraint2-2.2.3-cp311-cp311-manylinux_2_35_x86_64.whl (3.1 MB)\n",
            "\u001b[2K   \u001b[90m━━━━━━━━━━━━━━━━━━━━━━━━━━━━━━━━━━━━━━━━\u001b[0m \u001b[32m3.1/3.1 MB\u001b[0m \u001b[31m22.6 MB/s\u001b[0m eta \u001b[36m0:00:00\u001b[0m\n",
            "\u001b[?25hDownloading xmltodict-0.14.2-py2.py3-none-any.whl (10.0 kB)\n",
            "Installing collected packages: xmltodict, python-constraint2, kernel_tuner\n",
            "Successfully installed kernel_tuner-1.1.3 python-constraint2-2.2.3 xmltodict-0.14.2\n"
          ]
        }
      ],
      "source": [
        "%pip install kernel_tuner\n",
        "\n",
        "import numpy as np\n",
        "import kernel_tuner as kt\n",
        "import collections"
      ]
    },
    {
      "cell_type": "markdown",
      "metadata": {
        "id": "kd9z8p1VM4yG"
      },
      "source": [
        "To introduce these concepts we will use a modified vector add kernel.\n",
        "\n",
        "This kernel computes the same result as the kernel in the previous hands-on, i.e. the elementwise sum of two vectors of size `n`, but each thread can compute more than one element.\n",
        "\n",
        "The content of the cell is written to the `vector_add_tiled.cu` file, and you only need to execute this cell once as this hands-on does not require to change the implementation of the kernel."
      ]
    },
    {
      "cell_type": "code",
      "execution_count": 2,
      "metadata": {
        "id": "SJa6qNHOTnZK",
        "outputId": "85d63f03-6db1-4d49-9584-4dad7d4d80f1",
        "colab": {
          "base_uri": "https://localhost:8080/"
        }
      },
      "outputs": [
        {
          "output_type": "stream",
          "name": "stdout",
          "text": [
            "Writing vector_add_tiled.cu\n"
          ]
        }
      ],
      "source": [
        "%%writefile vector_add_tiled.cu\n",
        "\n",
        "__global__ void vector_add(float * c, float * a, float * b, int n) {\n",
        "    int i = (blockIdx.x * blockDim.x * tiling_factor) + (threadIdx.x * tiling_factor);\n",
        "\n",
        "    if ( (i + tiling_factor) <= n ) {\n",
        "        #pragma unroll\n",
        "        for ( int item = 0; item < tiling_factor; item++ ) {\n",
        "            c[i + item] = a[i + item] + b[i + item];\n",
        "        }\n",
        "    }\n",
        "}"
      ]
    },
    {
      "cell_type": "markdown",
      "metadata": {
        "id": "ANUVMtorYIad"
      },
      "source": [
        "Before running the code we need to allocate memory and add some tuning parameters."
      ]
    },
    {
      "cell_type": "code",
      "execution_count": 3,
      "metadata": {
        "id": "NFB85iP0aUBx"
      },
      "outputs": [],
      "source": [
        "size = 1_000_000\n",
        "\n",
        "a = np.random.randn(size).astype(np.float32)\n",
        "b = np.random.randn(size).astype(np.float32)\n",
        "c = np.zeros_like(b)\n",
        "n = np.int32(size)\n",
        "\n",
        "args = [c, a, b, n]\n",
        "\n",
        "tune_params = collections.OrderedDict()\n",
        "tune_params[\"block_size_x\"] = [2**i for i in range(0, 11)]\n",
        "tune_params[\"tiling_factor\"] = [i for i in range(1, 11)]"
      ]
    },
    {
      "cell_type": "markdown",
      "metadata": {
        "id": "X9kh32ixcssa"
      },
      "source": [
        "Normally, Kernel Tuner computes the grid size of our CUDA kernel automatically, based on problem size and number of threads per block (``block_size_x``). However, this is not possible for cases where other tunable parameters (i.e. `tiling_factor`) also affect the grid size.\n",
        "\n",
        "It is your responsibility to tell Kernel Tuner to work with **tunable grid dimensions**. To do so, you can define a Python list containing the names of the tunable parameters that should be used to compute the grid dimensions from the problem size."
      ]
    },
    {
      "cell_type": "code",
      "execution_count": 4,
      "metadata": {
        "id": "1aQ0AqT7eEqI"
      },
      "outputs": [],
      "source": [
        "# EXERCISE 1: Provide a list of tunable parameter names that divide the grid dimenions\n",
        "grid_div_x = [\"block_size_x\", \"tiling_factor\"]"
      ]
    },
    {
      "cell_type": "markdown",
      "metadata": {
        "id": "SziiWji4fJ5o"
      },
      "source": [
        "Execution time is important, but not always the most relevant metric for many users. Because of this, Kernel Tuner allows to work with **user defined metrics** that are computed within and then returned by `tune_kernel`.\n",
        "\n",
        "Metrics are passed to Kernel Tuner as `lambda` functions contained in an ordered dictionary, with the key of the entry being the name of the metric itself. The order is important because it is allowed for metrics to build on earlier defined metrics.\n",
        "\n",
        "It is your responsibility to define one or more metrics and then tune the provided kernel. Possible user defined metrics in this case are the number of operations per second, or memory bandwidth.\n"
      ]
    },
    {
      "cell_type": "code",
      "execution_count": 5,
      "metadata": {
        "id": "NbJwYvWsffiI"
      },
      "outputs": [],
      "source": [
        "# First we create an OrderedDict. Actually, in newer Python versions all dictionaries are ordered.\n",
        "metrics = collections.OrderedDict()\n",
        "\n",
        "# Now we define our first metric. In this case, we want the performance of our kernel to\n",
        "# be computed in billions of floating-point operations per second.\n",
        "metrics[\"Performance (GFLOP/s)\"] = lambda p: (n / 1e9) / (p[\"time\"] / 1e3)\n",
        "# Let's unpack what the above line means:. We've created a lambda function that\n",
        "# takes an argument 'p' that contains the results collected by Kernel Tuner.\n",
        "# Our function should return the performance in GFLOP/s of this specific code\n",
        "# variant of our kernel.\n",
        "# Because 'n' is the size of our array, and equal to the number of floating-point additions\n",
        "# our kernel performs, we start with dividing n by one billion (1e9).\n",
        "# Kernel Tuner measures the execution time of our kernel in miliseconds. So, to arrive\n",
        "# at the execution time in seconds, we divide the execution time by a thousand.\n",
        "\n",
        "# EXERCISE 2: Define a user-defined metric for the achieved memory bandwith (throughput)\n",
        "# of our vector_add kernel, use \"Throughput (GB/s)\" as the key.\n",
        "# Because the vector_add kernel reads twice as much data as it writes, it is OK\n",
        "# to only consider the bandwidth required for the input data.\n",
        "# Think of how to express the througput in gigabytes per second of our kernel.\n",
        "metrics[\"Throughput (GB/s)\"] = lambda p: (8*n / 1e9) / (p[\"time\"] / 1e3)"
      ]
    },
    {
      "cell_type": "markdown",
      "metadata": {
        "id": "Q2JQBidxfftX"
      },
      "source": [
        "Now we are ready to pass these additional arguments to the `tune_kernel` function as documented in Kernel Tuner's [API](https://KernelTuner.github.io/kernel_tuner/stable/user-api.html)."
      ]
    },
    {
      "cell_type": "code",
      "execution_count": 6,
      "metadata": {
        "id": "I-bDAqozfscV",
        "outputId": "77cef73d-be9f-478e-dfd9-d9a78342d3a8",
        "colab": {
          "base_uri": "https://localhost:8080/"
        }
      },
      "outputs": [
        {
          "output_type": "stream",
          "name": "stdout",
          "text": [
            "Using: Tesla T4\n",
            "block_size_x=1, tiling_factor=1, time=2.931ms, Performance (GFLOP/s)=0.341, Throughput (GB/s)=2.730\n",
            "block_size_x=1, tiling_factor=2, time=1.548ms, Performance (GFLOP/s)=0.646, Throughput (GB/s)=5.167\n",
            "block_size_x=1, tiling_factor=3, time=1.026ms, Performance (GFLOP/s)=0.974, Throughput (GB/s)=7.795\n",
            "block_size_x=1, tiling_factor=4, time=0.775ms, Performance (GFLOP/s)=1.291, Throughput (GB/s)=10.328\n",
            "block_size_x=1, tiling_factor=5, time=0.584ms, Performance (GFLOP/s)=1.714, Throughput (GB/s)=13.709\n",
            "block_size_x=1, tiling_factor=6, time=0.516ms, Performance (GFLOP/s)=1.939, Throughput (GB/s)=15.509\n",
            "block_size_x=1, tiling_factor=7, time=0.482ms, Performance (GFLOP/s)=2.076, Throughput (GB/s)=16.611\n",
            "block_size_x=1, tiling_factor=8, time=0.448ms, Performance (GFLOP/s)=2.234, Throughput (GB/s)=17.869\n",
            "block_size_x=1, tiling_factor=9, time=0.470ms, Performance (GFLOP/s)=2.127, Throughput (GB/s)=17.017\n",
            "block_size_x=1, tiling_factor=10, time=0.417ms, Performance (GFLOP/s)=2.397, Throughput (GB/s)=19.178\n",
            "block_size_x=2, tiling_factor=1, time=1.478ms, Performance (GFLOP/s)=0.677, Throughput (GB/s)=5.414\n",
            "block_size_x=2, tiling_factor=2, time=0.777ms, Performance (GFLOP/s)=1.286, Throughput (GB/s)=10.290\n",
            "block_size_x=2, tiling_factor=3, time=0.479ms, Performance (GFLOP/s)=2.090, Throughput (GB/s)=16.716\n",
            "block_size_x=2, tiling_factor=4, time=0.401ms, Performance (GFLOP/s)=2.495, Throughput (GB/s)=19.963\n",
            "block_size_x=2, tiling_factor=5, time=0.311ms, Performance (GFLOP/s)=3.213, Throughput (GB/s)=25.705\n",
            "block_size_x=2, tiling_factor=6, time=0.296ms, Performance (GFLOP/s)=3.377, Throughput (GB/s)=27.015\n",
            "block_size_x=2, tiling_factor=7, time=0.264ms, Performance (GFLOP/s)=3.782, Throughput (GB/s)=30.259\n",
            "block_size_x=2, tiling_factor=8, time=0.278ms, Performance (GFLOP/s)=3.594, Throughput (GB/s)=28.750\n",
            "block_size_x=2, tiling_factor=9, time=0.258ms, Performance (GFLOP/s)=3.872, Throughput (GB/s)=30.978\n",
            "block_size_x=2, tiling_factor=10, time=0.233ms, Performance (GFLOP/s)=4.283, Throughput (GB/s)=34.262\n",
            "block_size_x=4, tiling_factor=1, time=0.747ms, Performance (GFLOP/s)=1.340, Throughput (GB/s)=10.716\n",
            "block_size_x=4, tiling_factor=2, time=0.396ms, Performance (GFLOP/s)=2.526, Throughput (GB/s)=20.205\n",
            "block_size_x=4, tiling_factor=3, time=0.275ms, Performance (GFLOP/s)=3.641, Throughput (GB/s)=29.127\n",
            "block_size_x=4, tiling_factor=4, time=0.240ms, Performance (GFLOP/s)=4.164, Throughput (GB/s)=33.314\n",
            "block_size_x=4, tiling_factor=5, time=0.179ms, Performance (GFLOP/s)=5.591, Throughput (GB/s)=44.725\n",
            "block_size_x=4, tiling_factor=6, time=0.174ms, Performance (GFLOP/s)=5.753, Throughput (GB/s)=46.024\n",
            "block_size_x=4, tiling_factor=7, time=0.145ms, Performance (GFLOP/s)=6.917, Throughput (GB/s)=55.332\n",
            "block_size_x=4, tiling_factor=8, time=0.153ms, Performance (GFLOP/s)=6.542, Throughput (GB/s)=52.339\n",
            "block_size_x=4, tiling_factor=9, time=0.143ms, Performance (GFLOP/s)=7.008, Throughput (GB/s)=56.066\n",
            "block_size_x=4, tiling_factor=10, time=0.144ms, Performance (GFLOP/s)=6.952, Throughput (GB/s)=55.614\n",
            "block_size_x=8, tiling_factor=1, time=0.380ms, Performance (GFLOP/s)=2.632, Throughput (GB/s)=21.054\n",
            "block_size_x=8, tiling_factor=2, time=0.220ms, Performance (GFLOP/s)=4.549, Throughput (GB/s)=36.392\n",
            "block_size_x=8, tiling_factor=3, time=0.157ms, Performance (GFLOP/s)=6.381, Throughput (GB/s)=51.052\n",
            "block_size_x=8, tiling_factor=4, time=0.132ms, Performance (GFLOP/s)=7.601, Throughput (GB/s)=60.806\n",
            "block_size_x=8, tiling_factor=5, time=0.104ms, Performance (GFLOP/s)=9.649, Throughput (GB/s)=77.191\n",
            "block_size_x=8, tiling_factor=6, time=0.095ms, Performance (GFLOP/s)=10.485, Throughput (GB/s)=83.881\n",
            "block_size_x=8, tiling_factor=7, time=0.100ms, Performance (GFLOP/s)=9.964, Throughput (GB/s)=79.716\n",
            "block_size_x=8, tiling_factor=8, time=0.097ms, Performance (GFLOP/s)=10.273, Throughput (GB/s)=82.183\n",
            "block_size_x=8, tiling_factor=9, time=0.121ms, Performance (GFLOP/s)=8.281, Throughput (GB/s)=66.250\n",
            "block_size_x=8, tiling_factor=10, time=0.127ms, Performance (GFLOP/s)=7.863, Throughput (GB/s)=62.904\n",
            "block_size_x=16, tiling_factor=1, time=0.212ms, Performance (GFLOP/s)=4.710, Throughput (GB/s)=37.680\n",
            "block_size_x=16, tiling_factor=2, time=0.121ms, Performance (GFLOP/s)=8.274, Throughput (GB/s)=66.195\n",
            "block_size_x=16, tiling_factor=3, time=0.089ms, Performance (GFLOP/s)=11.276, Throughput (GB/s)=90.211\n",
            "block_size_x=16, tiling_factor=4, time=0.080ms, Performance (GFLOP/s)=12.555, Throughput (GB/s)=100.436\n",
            "block_size_x=16, tiling_factor=5, time=0.082ms, Performance (GFLOP/s)=12.180, Throughput (GB/s)=97.439\n",
            "block_size_x=16, tiling_factor=6, time=0.087ms, Performance (GFLOP/s)=11.560, Throughput (GB/s)=92.480\n",
            "block_size_x=16, tiling_factor=7, time=0.117ms, Performance (GFLOP/s)=8.573, Throughput (GB/s)=68.587\n",
            "block_size_x=16, tiling_factor=8, time=0.131ms, Performance (GFLOP/s)=7.622, Throughput (GB/s)=60.978\n",
            "block_size_x=16, tiling_factor=9, time=0.144ms, Performance (GFLOP/s)=6.942, Throughput (GB/s)=55.534\n",
            "block_size_x=16, tiling_factor=10, time=0.143ms, Performance (GFLOP/s)=6.988, Throughput (GB/s)=55.905\n",
            "block_size_x=32, tiling_factor=1, time=0.126ms, Performance (GFLOP/s)=7.951, Throughput (GB/s)=63.609\n",
            "block_size_x=32, tiling_factor=2, time=0.079ms, Performance (GFLOP/s)=12.579, Throughput (GB/s)=100.633\n",
            "block_size_x=32, tiling_factor=3, time=0.077ms, Performance (GFLOP/s)=12.983, Throughput (GB/s)=103.864\n",
            "block_size_x=32, tiling_factor=4, time=0.082ms, Performance (GFLOP/s)=12.206, Throughput (GB/s)=97.645\n",
            "block_size_x=32, tiling_factor=5, time=0.097ms, Performance (GFLOP/s)=10.278, Throughput (GB/s)=82.221\n",
            "block_size_x=32, tiling_factor=6, time=0.110ms, Performance (GFLOP/s)=9.077, Throughput (GB/s)=72.617\n",
            "block_size_x=32, tiling_factor=7, time=0.123ms, Performance (GFLOP/s)=8.158, Throughput (GB/s)=65.264\n",
            "block_size_x=32, tiling_factor=8, time=0.139ms, Performance (GFLOP/s)=7.211, Throughput (GB/s)=57.687\n",
            "block_size_x=32, tiling_factor=9, time=0.151ms, Performance (GFLOP/s)=6.627, Throughput (GB/s)=53.014\n",
            "block_size_x=32, tiling_factor=10, time=0.184ms, Performance (GFLOP/s)=5.446, Throughput (GB/s)=43.565\n",
            "block_size_x=64, tiling_factor=1, time=0.065ms, Performance (GFLOP/s)=15.416, Throughput (GB/s)=123.326\n",
            "block_size_x=64, tiling_factor=2, time=0.078ms, Performance (GFLOP/s)=12.748, Throughput (GB/s)=101.981\n",
            "block_size_x=64, tiling_factor=3, time=0.079ms, Performance (GFLOP/s)=12.673, Throughput (GB/s)=101.385\n",
            "block_size_x=64, tiling_factor=4, time=0.086ms, Performance (GFLOP/s)=11.688, Throughput (GB/s)=93.503\n",
            "block_size_x=64, tiling_factor=5, time=0.103ms, Performance (GFLOP/s)=9.720, Throughput (GB/s)=77.764\n",
            "block_size_x=64, tiling_factor=6, time=0.116ms, Performance (GFLOP/s)=8.654, Throughput (GB/s)=69.230\n",
            "block_size_x=64, tiling_factor=7, time=0.149ms, Performance (GFLOP/s)=6.700, Throughput (GB/s)=53.599\n",
            "block_size_x=64, tiling_factor=8, time=0.153ms, Performance (GFLOP/s)=6.543, Throughput (GB/s)=52.343\n",
            "block_size_x=64, tiling_factor=9, time=0.166ms, Performance (GFLOP/s)=6.037, Throughput (GB/s)=48.295\n",
            "block_size_x=64, tiling_factor=10, time=0.213ms, Performance (GFLOP/s)=4.695, Throughput (GB/s)=37.556\n",
            "block_size_x=128, tiling_factor=1, time=0.070ms, Performance (GFLOP/s)=14.376, Throughput (GB/s)=115.011\n",
            "block_size_x=128, tiling_factor=2, time=0.076ms, Performance (GFLOP/s)=13.172, Throughput (GB/s)=105.377\n",
            "block_size_x=128, tiling_factor=3, time=0.082ms, Performance (GFLOP/s)=12.212, Throughput (GB/s)=97.694\n",
            "block_size_x=128, tiling_factor=4, time=0.092ms, Performance (GFLOP/s)=10.876, Throughput (GB/s)=87.004\n",
            "block_size_x=128, tiling_factor=5, time=0.100ms, Performance (GFLOP/s)=10.003, Throughput (GB/s)=80.022\n",
            "block_size_x=128, tiling_factor=6, time=0.116ms, Performance (GFLOP/s)=8.657, Throughput (GB/s)=69.252\n",
            "block_size_x=128, tiling_factor=7, time=0.143ms, Performance (GFLOP/s)=7.000, Throughput (GB/s)=56.000\n",
            "block_size_x=128, tiling_factor=8, time=0.152ms, Performance (GFLOP/s)=6.569, Throughput (GB/s)=52.553\n",
            "block_size_x=128, tiling_factor=9, time=0.168ms, Performance (GFLOP/s)=5.956, Throughput (GB/s)=47.651\n",
            "block_size_x=128, tiling_factor=10, time=0.193ms, Performance (GFLOP/s)=5.174, Throughput (GB/s)=41.391\n",
            "block_size_x=256, tiling_factor=1, time=0.068ms, Performance (GFLOP/s)=14.743, Throughput (GB/s)=117.940\n",
            "block_size_x=256, tiling_factor=2, time=0.080ms, Performance (GFLOP/s)=12.435, Throughput (GB/s)=99.483\n",
            "block_size_x=256, tiling_factor=3, time=0.079ms, Performance (GFLOP/s)=12.728, Throughput (GB/s)=101.827\n",
            "block_size_x=256, tiling_factor=4, time=0.091ms, Performance (GFLOP/s)=10.939, Throughput (GB/s)=87.513\n",
            "block_size_x=256, tiling_factor=5, time=0.099ms, Performance (GFLOP/s)=10.068, Throughput (GB/s)=80.545\n",
            "block_size_x=256, tiling_factor=6, time=0.116ms, Performance (GFLOP/s)=8.647, Throughput (GB/s)=69.175\n",
            "block_size_x=256, tiling_factor=7, time=0.137ms, Performance (GFLOP/s)=7.304, Throughput (GB/s)=58.433\n",
            "block_size_x=256, tiling_factor=8, time=0.162ms, Performance (GFLOP/s)=6.175, Throughput (GB/s)=49.397\n",
            "block_size_x=256, tiling_factor=9, time=0.173ms, Performance (GFLOP/s)=5.766, Throughput (GB/s)=46.128\n",
            "block_size_x=256, tiling_factor=10, time=0.203ms, Performance (GFLOP/s)=4.916, Throughput (GB/s)=39.327\n",
            "block_size_x=512, tiling_factor=1, time=0.065ms, Performance (GFLOP/s)=15.433, Throughput (GB/s)=123.465\n",
            "block_size_x=512, tiling_factor=2, time=0.079ms, Performance (GFLOP/s)=12.707, Throughput (GB/s)=101.656\n",
            "block_size_x=512, tiling_factor=3, time=0.080ms, Performance (GFLOP/s)=12.458, Throughput (GB/s)=99.664\n",
            "block_size_x=512, tiling_factor=4, time=0.084ms, Performance (GFLOP/s)=11.843, Throughput (GB/s)=94.743\n",
            "block_size_x=512, tiling_factor=5, time=0.100ms, Performance (GFLOP/s)=9.954, Throughput (GB/s)=79.632\n",
            "block_size_x=512, tiling_factor=6, time=0.117ms, Performance (GFLOP/s)=8.549, Throughput (GB/s)=68.391\n",
            "block_size_x=512, tiling_factor=7, time=0.137ms, Performance (GFLOP/s)=7.286, Throughput (GB/s)=58.287\n",
            "block_size_x=512, tiling_factor=8, time=0.170ms, Performance (GFLOP/s)=5.898, Throughput (GB/s)=47.184\n",
            "block_size_x=512, tiling_factor=9, time=0.188ms, Performance (GFLOP/s)=5.327, Throughput (GB/s)=42.615\n",
            "block_size_x=512, tiling_factor=10, time=0.228ms, Performance (GFLOP/s)=4.382, Throughput (GB/s)=35.053\n",
            "block_size_x=1024, tiling_factor=1, time=0.068ms, Performance (GFLOP/s)=14.682, Throughput (GB/s)=117.458\n",
            "block_size_x=1024, tiling_factor=2, time=0.079ms, Performance (GFLOP/s)=12.708, Throughput (GB/s)=101.667\n",
            "block_size_x=1024, tiling_factor=3, time=0.079ms, Performance (GFLOP/s)=12.647, Throughput (GB/s)=101.179\n",
            "block_size_x=1024, tiling_factor=4, time=0.101ms, Performance (GFLOP/s)=9.931, Throughput (GB/s)=79.452\n",
            "block_size_x=1024, tiling_factor=5, time=0.110ms, Performance (GFLOP/s)=9.088, Throughput (GB/s)=72.702\n",
            "block_size_x=1024, tiling_factor=6, time=0.131ms, Performance (GFLOP/s)=7.654, Throughput (GB/s)=61.234\n",
            "block_size_x=1024, tiling_factor=7, time=0.172ms, Performance (GFLOP/s)=5.824, Throughput (GB/s)=46.595\n",
            "block_size_x=1024, tiling_factor=8, time=0.201ms, Performance (GFLOP/s)=4.979, Throughput (GB/s)=39.829\n",
            "block_size_x=1024, tiling_factor=9, time=0.257ms, Performance (GFLOP/s)=3.885, Throughput (GB/s)=31.083\n",
            "block_size_x=1024, tiling_factor=10, time=0.377ms, Performance (GFLOP/s)=2.650, Throughput (GB/s)=21.203\n",
            "best performing configuration:\n",
            "block_size_x=512, tiling_factor=1, time=0.065ms, Performance (GFLOP/s)=15.433, Throughput (GB/s)=123.465\n",
            "Number of configurations: 110\n"
          ]
        }
      ],
      "source": [
        "if not grid_div_x:\n",
        "    print(\"Error: first setup grid_div_x (Exercise 1)\")\n",
        "elif \"Throughput (GB/s)\" not in metrics:\n",
        "    print(\"Error: first define a metric for the throughput (Exercise 2)\")\n",
        "\n",
        "# Call the tuner\n",
        "# Mostly the same as before, but now we also pass:\n",
        "#    grid_div_x, to tell Kernel Tuner how to compute the grid dimensions\n",
        "#    metrics, a dictionary with user-defined metrics\n",
        "else:\n",
        "    results, env = kt.tune_kernel(\"vector_add\", \"vector_add_tiled.cu\", size, args, tune_params,\n",
        "                                  grid_div_x=grid_div_x,\n",
        "                                  metrics=metrics,\n",
        "                                  lang=\"cupy\")\n",
        "if results:\n",
        "    print(f\"Number of configurations: {len(results)}\")"
      ]
    },
    {
      "cell_type": "code",
      "source": [],
      "metadata": {
        "id": "icW_d44lweGO"
      },
      "execution_count": null,
      "outputs": []
    }
  ],
  "metadata": {
    "colab": {
      "name": "01-Kernel_Tuner-Getting_Started.ipynb",
      "provenance": []
    },
    "kernelspec": {
      "display_name": "Python 3",
      "name": "python3"
    },
    "language_info": {
      "name": "python"
    },
    "accelerator": "GPU"
  },
  "nbformat": 4,
  "nbformat_minor": 0
}